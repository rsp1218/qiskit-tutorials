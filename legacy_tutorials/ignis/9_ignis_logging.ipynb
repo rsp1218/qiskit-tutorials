{
 "cells": [
  {
   "attachments": {},
   "cell_type": "markdown",
   "metadata": {},
   "source": [
    "![qiskit_header.png](../../images/qiskit_header.png)"
   ]
  },
  {
   "cell_type": "markdown",
   "metadata": {},
   "source": [
    "# Ignis Logging\n",
    "---\n",
    "\n",
    "* **Last Updated:** August 4, 2019\n",
    "* **Requires:** qiskit-ignis 0.2\n",
    "\n",
    "# Introduction\n",
    "\n",
    "This tutorial shows how to use logging in Ignis. The purpose of Ignis logging is twofold:\n",
    "1. Log run-time events and emit messages to the console.\n",
    "2. Log data of interest to a file. \n",
    "\n",
    "Ignis logging is based on [Python's logging package](https://docs.python.org/3/library/logging.html). There are 3 classes in the Ignis logging module: \n",
    "\n",
    "* **IgnisLogger** - Objects of this class are used for logging. The class is derived from the Logger class defined in the Python's logging package.\n",
    "* **IgnisLogging** - A singleton class responsible for configuring logging behavior in Ignis as well as for creating  IgnisLogger objects.\n",
    "* **IgnisLogReader** - A class for reading file logs created by IgnisLogger objects, containing filtering capabilities support.\n",
    "\n",
    "\n",
    "## Using IgnisLogger\n",
    "\n",
    "In this section we will see how to log data to console and files using `IgnisLogger` objects.\n",
    "\n",
    "### Creating a logger object\n",
    "Console and file logging in Ignis is performed using an object of the class `IgnisLogger`. Such an object is essentially a `Logger` object of the [Python's logging package](https://docs.python.org/3/library/logging.html), extended with a convenient file logging capability. \n",
    "\n",
    "Let's create such an object:"
   ]
  },
  {
   "cell_type": "code",
   "execution_count": 1,
   "metadata": {
    "ExecuteTime": {
     "end_time": "2019-12-10T22:07:19.455712Z",
     "start_time": "2019-12-10T22:07:17.534115Z"
    }
   },
   "outputs": [],
   "source": [
    "from qiskit.ignis.logging import ignis_logging\n",
    "\n",
    "logger = ignis_logging.IgnisLogging().get_logger(__name__)"
   ]
  },
  {
   "cell_type": "markdown",
   "metadata": {},
   "source": [
    "You can see here the use of the `IgnisLogging` singleton class for getting an `IgnisLogger` object. The parameter for the `get_logger` method gives the logger its name. This name is used when messages are printed to the console, to identify the source file which the log was printed from. "
   ]
  },
  {
   "cell_type": "markdown",
   "metadata": {},
   "source": [
    "### Logging to console\n",
    "\n",
    "Logging to console using an `IgnisLogger` object is identical to using [Python's logging package](https://docs.python.org/3/library/logging.html). For convenience, here are some examples:\n",
    "\n"
   ]
  },
  {
   "cell_type": "code",
   "execution_count": 2,
   "metadata": {
    "ExecuteTime": {
     "end_time": "2019-12-10T22:07:19.465118Z",
     "start_time": "2019-12-10T22:07:19.458391Z"
    }
   },
   "outputs": [
    {
     "name": "stderr",
     "output_type": "stream",
     "text": [
      "WARNING: __main__ - This is a warning\n",
      "ERROR: __main__ - An error message\n",
      "CRITICAL: __main__ - Critical error\n"
     ]
    }
   ],
   "source": [
    "logger.info(\"An info message\") # wont show by default\n",
    "logger.warning(\"This is a warning\")\n",
    "logger.error(\"An error message\")\n",
    "logger.critical(\"Critical error\")\n"
   ]
  },
  {
   "cell_type": "markdown",
   "metadata": {},
   "source": [
    "#### Configuring console logging\n",
    "Essentially, console logging in Ignis is identical to python logging. For the most part, the important aspect to consider when using Python logging is message levels. There are 5 pre-defined message levels in Python logging, as listed below, in ascending order of severity:\n",
    "\n",
    "DEBUG <br>\n",
    "INFO <br>\n",
    "WARNING <br>\n",
    "ERROR <br>\n",
    "CRITICAL <br>\n",
    "\n",
    "The default message level in Python logging is WARNING, meaning all messages of WARNING severity or higher will be logged to the console. This is why the INFO message in the example above was not printed. You can set the severity level using the following code:\n",
    "\n"
   ]
  },
  {
   "cell_type": "code",
   "execution_count": 3,
   "metadata": {
    "ExecuteTime": {
     "end_time": "2019-12-10T22:07:19.473671Z",
     "start_time": "2019-12-10T22:07:19.468517Z"
    }
   },
   "outputs": [
    {
     "name": "stderr",
     "output_type": "stream",
     "text": [
      "INFO: __main__ - This will be printed now\n"
     ]
    }
   ],
   "source": [
    "import logging\n",
    "logger.setLevel(logging.INFO)\n",
    "logger.info(\"This will be printed now\")"
   ]
  },
  {
   "cell_type": "markdown",
   "metadata": {},
   "source": [
    "For complete documentation on Python logging, see [here](https://docs.python.org/3/library/logging.html).\n",
    "\n",
    "### Logging to file\n",
    "\n",
    "Logging to file is carried out by using the `log_to_file` method of the `IgnisLogger` class. The method expects key-value pairs given as Python keyword parameters. Any number of key-value pairs can be given to the method. Each call to the `log_to_file` method results in a new line being appended and stored in the log file. Each line contains a timestamp, an identifying name and list of key-value pairs. Here are a few examples:"
   ]
  },
  {
   "cell_type": "code",
   "execution_count": 4,
   "metadata": {
    "ExecuteTime": {
     "end_time": "2019-12-10T22:07:19.483162Z",
     "start_time": "2019-12-10T22:07:19.477769Z"
    }
   },
   "outputs": [
    {
     "name": "stderr",
     "output_type": "stream",
     "text": [
      "File logging is disabled: no config file\n"
     ]
    }
   ],
   "source": [
    "logger.log_to_file(t1=0.1, t2='0.3')\n",
    "logger.log_to_file(qubits=[0,1,3], fidelity=.9998)\n",
    "logger.log_to_file(dictionary={'a':1, 'b':2})"
   ]
  },
  {
   "cell_type": "markdown",
   "metadata": {},
   "source": [
    "And this is how these are logged in the log file:\n",
    "\n",
    "``\n",
    "2019/06/02 11:36:28 ignis_logging 't1':'0.1' 't2':'0.3' \n",
    "2019/06/02 11:36:28 ignis_logging 'qubits':'[0, 1, 3]' 'fidelity':'0.9998' \n",
    "2019/06/02 11:36:28 ignis_logging 'dictionary':'{'a': 1, 'b': 2}\n",
    "``\n",
    "\n",
    "Notice how the data is stored:\n",
    "Each key-value pair is separated by a colon (:), the pairs are separated by space and all keys and values are put in single quotes ('). This makes it easy to import the data into a CSV or other regular data formats. \n",
    "\n",
    "### Configuring the IgnisLogger\n",
    "\n",
    "Besides creating `IgnisLogger` objects, the `IgnisLogger` class is used to configure the file logging aspects in Ignis.  The main aspects controlled by the `IgnisLogger` class are:\n",
    "\n",
    "* Enabling/disabling file logging.\n",
    "* Location of the log files.\n",
    "* Miscellaneous log file controls. \n",
    "\n",
    "The main vehicle for configuring Ignis logging is a configuration file, named *logging.yaml*, whose full path is expected by `IgnisLogger` to be:\n",
    "\n",
    "``\n",
    "<USER HOME DIR>/.qiskit/logging.yaml\n",
    "``\n",
    "\n",
    "An example configuration file is located in the logging directory of Ignis. You can use this file as a starting point. \n",
    "\n",
    "The main settings in the configuration file are as follow:\n",
    "\n",
    "```yaml\n",
    "file_logging: true\t\t# Enables/disables file logging (true/false)\n",
    "log_file: ignis_test_log.log\t# Name of the file log\n",
    "max_size: 1000000\t\t# Max file size (in bytes). \n",
    "max_rotations: 5\t\t# Max number of file rotations\n",
    "```\n",
    "\n",
    "The max_size and max_rotations settings are used in conjunction with each other to limit the amount of disk space used for logging. Up to max_rotations files will be stored on disk, each of which is limited to max_size bytes in size, such that the most recent max_size * max_rotations bytes are stored in one or more log files. Rotated file names' are automatically suffixed with numbers. \n",
    "\n",
    "File logging can be enabled or disabled either by using the logging configuration file or by calling the `enable_file_logging` or `disable_file_logging` methods of `IgnisLogger`, respectively. \n",
    "\n",
    "Note: File logging is disabled by default if no logging configuration file is provided. Enabling file logging without using a configuration file (i.e. programatically) results in `IgnisLogging` using its internal file logging default settings.\n",
    "\n",
    "\n",
    "\n",
    "## IgnisLogReader\n",
    "\n",
    "The Ignis logging module comes with a log reader class called `IgnisLogReader`. The purpose of `IgnisLogReader` is to retrieve log data from Ignis log files in such a way that it can be further processed and analyzed. In essence, `IgnisLogReader` returns a list of lists, each of which contains a list of key-value pairs. \n",
    "\n",
    "Note: since any data can be stored using `IgnisLogger`'s `log_to_file` method, it is up to the user to correctly interpret the logged data when using the `IgnisLogReader` class. \n",
    "\n",
    "### Reading log data\n",
    "The most basic usage of the `IgnisLogReader` is to retrieve all the data stored in the log file (or multiple files, in case of file rotations). Here is how this can be achieved: "
   ]
  },
  {
   "cell_type": "code",
   "execution_count": 5,
   "metadata": {
    "ExecuteTime": {
     "end_time": "2019-12-10T22:07:19.499631Z",
     "start_time": "2019-12-10T22:07:19.486925Z"
    }
   },
   "outputs": [
    {
     "name": "stdout",
     "output_type": "stream",
     "text": [
      "\n"
     ]
    }
   ],
   "source": [
    "log_reader = ignis_logging.IgnisLogReader()\n",
    "rows = log_reader.read_values()\n",
    "print(*rows, sep=\"\\n\")"
   ]
  },
  {
   "cell_type": "markdown",
   "metadata": {},
   "source": [
    "Note how the data is retrieved as a list of lists. In addition, when a logging configuration file is used, `IgnisLogReader` will automatically read the log files as defined in the configuration file. You can specify a custom log file to read from using the log_file parameter of the `read_values` method.\n",
    "\n",
    "#### Filtering by date and time\n",
    "`IgnisLogReader` supports date/time based filtering. You can specify a to and a from date/time, as well as a from-to range by combining both to and from datetime specifications. Here are a couple example:"
   ]
  },
  {
   "cell_type": "code",
   "execution_count": 6,
   "metadata": {
    "ExecuteTime": {
     "end_time": "2019-12-10T22:07:19.510326Z",
     "start_time": "2019-12-10T22:07:19.502014Z"
    }
   },
   "outputs": [
    {
     "name": "stdout",
     "output_type": "stream",
     "text": [
      "\n"
     ]
    }
   ],
   "source": [
    "rows = log_reader.read_values(from_datetime=\"2019/06/02 11:36:25\")\n",
    "print(*rows, sep=\"\\n\")"
   ]
  },
  {
   "cell_type": "code",
   "execution_count": 7,
   "metadata": {
    "ExecuteTime": {
     "end_time": "2019-12-10T22:07:19.526064Z",
     "start_time": "2019-12-10T22:07:19.518649Z"
    }
   },
   "outputs": [
    {
     "name": "stdout",
     "output_type": "stream",
     "text": [
      "\n"
     ]
    }
   ],
   "source": [
    "from datetime import datetime\n",
    "to_dt = datetime.strptime(\"02/06/19 11:36:25\", \"%d/%m/%y %H:%M:%S\")\n",
    "rows = log_reader.read_values(from_datetime=\"2019/06/02 11:36:25\", to_datetime=to_dt)\n",
    "print(*rows, sep=\"\\n\")"
   ]
  },
  {
   "cell_type": "markdown",
   "metadata": {},
   "source": [
    "Note how the date/time parameters can handle both date/time strings as well as datetime objects. \n",
    "#### Filtering by key names\n",
    "You can also ask `IgnisLogReader` to retrieve only key-values pairs of specific keys. Use the _keys_ parameter of the `read_values` method to achieve that. For example: "
   ]
  },
  {
   "cell_type": "code",
   "execution_count": 8,
   "metadata": {
    "ExecuteTime": {
     "end_time": "2019-12-10T22:07:19.534695Z",
     "start_time": "2019-12-10T22:07:19.530666Z"
    }
   },
   "outputs": [
    {
     "name": "stdout",
     "output_type": "stream",
     "text": [
      "\n"
     ]
    }
   ],
   "source": [
    "rows = log_reader.read_values(keys=\"t1\")\n",
    "print(*rows, sep=\"\\n\")\n"
   ]
  },
  {
   "cell_type": "code",
   "execution_count": 9,
   "metadata": {
    "ExecuteTime": {
     "end_time": "2019-12-10T22:07:19.551137Z",
     "start_time": "2019-12-10T22:07:19.539032Z"
    }
   },
   "outputs": [
    {
     "name": "stdout",
     "output_type": "stream",
     "text": [
      "\n"
     ]
    }
   ],
   "source": [
    "rows = log_reader.read_values(keys=[\"t2\", \"fidelity\"], to_datetime=to_dt)\n",
    "print(*rows, sep=\"\\n\")"
   ]
  },
  {
   "cell_type": "markdown",
   "metadata": {},
   "source": [
    "Once retrieved you can convert the data into a csv object, pandas or any other format for further processing and visualization. "
   ]
  },
  {
   "cell_type": "code",
   "execution_count": 10,
   "metadata": {
    "ExecuteTime": {
     "end_time": "2019-12-10T22:07:19.633784Z",
     "start_time": "2019-12-10T22:07:19.554289Z"
    }
   },
   "outputs": [
    {
     "data": {
      "text/html": [
       "<h3>Version Information</h3><table><tr><th>Qiskit Software</th><th>Version</th></tr><tr><td>Qiskit</td><td>0.14.0</td></tr><tr><td>Terra</td><td>0.11.0</td></tr><tr><td>Aer</td><td>0.3.4</td></tr><tr><td>Ignis</td><td>0.2.0</td></tr><tr><td>Aqua</td><td>0.6.1</td></tr><tr><td>IBM Q Provider</td><td>0.4.4</td></tr><tr><th>System information</th></tr><tr><td>Python</td><td>3.7.5 (default, Oct 25 2019, 10:52:18) \n",
       "[Clang 4.0.1 (tags/RELEASE_401/final)]</td></tr><tr><td>OS</td><td>Darwin</td></tr><tr><td>CPUs</td><td>4</td></tr><tr><td>Memory (Gb)</td><td>16.0</td></tr><tr><td colspan='2'>Tue Dec 10 17:07:19 2019 EST</td></tr></table>"
      ],
      "text/plain": [
       "<IPython.core.display.HTML object>"
      ]
     },
     "metadata": {},
     "output_type": "display_data"
    },
    {
     "data": {
      "text/html": [
       "<div style='width: 100%; background-color:#d5d9e0;padding-left: 10px; padding-bottom: 10px; padding-right: 10px; padding-top: 5px'><h3>This code is a part of Qiskit</h3><p>&copy; Copyright IBM 2017, 2019.</p><p>This code is licensed under the Apache License, Version 2.0. You may<br>obtain a copy of this license in the LICENSE.txt file in the root directory<br> of this source tree or at http://www.apache.org/licenses/LICENSE-2.0.<p>Any modifications or derivative works of this code must retain this<br>copyright notice, and modified files need to carry a notice indicating<br>that they have been altered from the originals.</p></div>"
      ],
      "text/plain": [
       "<IPython.core.display.HTML object>"
      ]
     },
     "metadata": {},
     "output_type": "display_data"
    }
   ],
   "source": [
    "import qiskit.tools.jupyter\n",
    "%qiskit_version_table\n",
    "%qiskit_copyright"
   ]
  },
  {
   "cell_type": "code",
   "execution_count": null,
   "metadata": {},
   "outputs": [],
   "source": []
  }
 ],
 "metadata": {
  "kernelspec": {
   "display_name": "Python 3",
   "language": "python",
   "name": "python3"
  },
  "language_info": {
   "codemirror_mode": {
    "name": "ipython",
    "version": 3
   },
   "file_extension": ".py",
   "mimetype": "text/x-python",
   "name": "python",
   "nbconvert_exporter": "python",
   "pygments_lexer": "ipython3",
   "version": "3.7.3"
  },
  "varInspector": {
   "cols": {
    "lenName": 16,
    "lenType": 16,
    "lenVar": 40
   },
   "kernels_config": {
    "python": {
     "delete_cmd_postfix": "",
     "delete_cmd_prefix": "del ",
     "library": "var_list.py",
     "varRefreshCmd": "print(var_dic_list())"
    },
    "r": {
     "delete_cmd_postfix": ") ",
     "delete_cmd_prefix": "rm(",
     "library": "var_list.r",
     "varRefreshCmd": "cat(var_dic_list()) "
    }
   },
   "types_to_exclude": [
    "module",
    "function",
    "builtin_function_or_method",
    "instance",
    "_Feature"
   ],
   "window_display": false
  }
 },
 "nbformat": 4,
 "nbformat_minor": 2
}
