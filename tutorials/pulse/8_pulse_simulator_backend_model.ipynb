{
 "cells": [
  {
   "cell_type": "markdown",
   "metadata": {},
   "source": [
    "# Qiskit Aer: Pulse simulation of a backend model\n",
    "\n",
    "This notebook shows how to use the Aer pulse simulator using a model generated from a backend. In particular, we run a Rabi experiment to find a $\\pi$-pulse amplitude on a model of the Armonk one qubit backend, generated from the `FakeArmonk` mock backend.\n",
    "\n",
    "## Table of contents\n",
    "\n",
    "1) [Imports](#imports)\n",
    "\n",
    "\n",
    "2) [Construct model from backend](#model)\n",
    "\n",
    "\n",
    "3) [Run Rabi experiments and fit $\\pi$-pulse amplitude](#rabi)"
   ]
  },
  {
   "cell_type": "markdown",
   "metadata": {},
   "source": [
    "## 1. Imports <a name='imports'></a>"
   ]
  },
  {
   "cell_type": "markdown",
   "metadata": {},
   "source": [
    "Import general libraries:"
   ]
  },
  {
   "cell_type": "code",
   "execution_count": 1,
   "metadata": {},
   "outputs": [],
   "source": [
    "import numpy as np"
   ]
  },
  {
   "cell_type": "markdown",
   "metadata": {},
   "source": [
    "Import Rabi experiment generator and fitter from Ignis, and other functions for job submission:"
   ]
  },
  {
   "cell_type": "code",
   "execution_count": 2,
   "metadata": {},
   "outputs": [],
   "source": [
    "from qiskit.ignis.characterization.calibrations import rabi_schedules, RabiFitter\n",
    "\n",
    "from qiskit.pulse import DriveChannel\n",
    "from qiskit.compiler import assemble\n",
    "from qiskit.qobj.utils import MeasLevel, MeasReturnType"
   ]
  },
  {
   "cell_type": "markdown",
   "metadata": {},
   "source": [
    "Import `PulseSimulator` and `PulseSystemModel` for pulse simulation, as well as the mock Armonk backend:"
   ]
  },
  {
   "cell_type": "code",
   "execution_count": 3,
   "metadata": {},
   "outputs": [],
   "source": [
    "# The pulse simulator\n",
    "from qiskit.providers.aer import PulseSimulator\n",
    "\n",
    "# Object for representing physical models\n",
    "from qiskit.providers.aer.pulse import PulseSystemModel\n",
    "\n",
    "# Mock Armonk backend\n",
    "from qiskit.test.mock.backends.armonk.fake_armonk import FakeArmonk"
   ]
  },
  {
   "cell_type": "markdown",
   "metadata": {},
   "source": [
    "## 2. Construct model from backend <a name='model'></a>\n",
    "\n",
    "This section demonstrates the use of the `PulseSystemModel.from_backend` function for generating `PulseSystemModel` objects from a backend. \n",
    "\n",
    "**Note:** Currently not all system Hamiltonian information is available to the public, missing values have been replaced with $0$. As a result, in this notebook, we need to insert parameters into the backend object by hand. Specifically, we:\n",
    "- Set the frequency of the qubit.\n",
    "- Set the value of the drive strength to be consistent with a previously found $\\pi$-pulse amplitude found on the actual Armonk device.\n",
    "\n",
    "Instantiate mock backend:"
   ]
  },
  {
   "cell_type": "code",
   "execution_count": 4,
   "metadata": {},
   "outputs": [],
   "source": [
    "armonk_backend = FakeArmonk()"
   ]
  },
  {
   "cell_type": "markdown",
   "metadata": {},
   "source": [
    "Manual insertion of Hamiltonian parameters:"
   ]
  },
  {
   "cell_type": "code",
   "execution_count": 5,
   "metadata": {},
   "outputs": [],
   "source": [
    "# set the drive strength\n",
    "getattr(armonk_backend.configuration(), 'hamiltonian')['vars']['omegad0'] = 63455017.85\n",
    "\n",
    "# set the qubit frequency\n",
    "freq_est = 4.97e9\n",
    "armonk_backend.defaults().qubit_freq_est = [freq_est]\n",
    "getattr(armonk_backend.configuration(), 'hamiltonian')['vars']['wq0'] = 2*np.pi*freq_est"
   ]
  },
  {
   "cell_type": "markdown",
   "metadata": {},
   "source": [
    "Generate model from backend:"
   ]
  },
  {
   "cell_type": "code",
   "execution_count": 6,
   "metadata": {},
   "outputs": [],
   "source": [
    "armonk_model = PulseSystemModel.from_backend(armonk_backend)"
   ]
  },
  {
   "cell_type": "markdown",
   "metadata": {},
   "source": [
    "## 3. Run Rabi experiments and fit $\\pi$-pulse amplitude <a name='rabi'></a>\n",
    "\n",
    "Next, we run a Rabi experiments generated using Ignis on the simulator using the system model generated from the Armonk backend.\n",
    "\n",
    "First, construct Rabi experiment schedules:"
   ]
  },
  {
   "cell_type": "code",
   "execution_count": 7,
   "metadata": {},
   "outputs": [],
   "source": [
    "# qubit list\n",
    "qubits = [0]\n",
    "\n",
    "# drive amplitudes to use\n",
    "num_exps = 64\n",
    "drive_amps = np.linspace(0, 1.0, num_exps)\n",
    "\n",
    "# drive shape parameters\n",
    "drive_duration = 2048\n",
    "drive_sigma = 256\n",
    "\n",
    "# list of drive channels\n",
    "drive_channels = [DriveChannel(0)]\n",
    "\n",
    "# construct the schedules\n",
    "rabi_schedules, xdata = rabi_schedules(amp_list=drive_amps, \n",
    "                                       qubits=qubits, \n",
    "                                       pulse_width=drive_duration, \n",
    "                                       pulse_sigma=drive_sigma,\n",
    "                                       drives=drive_channels, \n",
    "                                       inst_map=armonk_backend.defaults().instruction_schedule_map, \n",
    "                                       meas_map=armonk_backend.configuration().meas_map)"
   ]
  },
  {
   "cell_type": "markdown",
   "metadata": {},
   "source": [
    "Assemble the `qobj` for job submission. When assembling pulse schedules to be used with the pulse simulator, pass the `PulseSimulator` as the backend."
   ]
  },
  {
   "cell_type": "code",
   "execution_count": 8,
   "metadata": {},
   "outputs": [],
   "source": [
    "backend_sim = PulseSimulator()\n",
    "\n",
    "rabi_qobj = assemble(rabi_schedules, \n",
    "                     backend=backend_sim,\n",
    "                     meas_level=1, \n",
    "                     meas_return='avg',\n",
    "                     shots=512)"
   ]
  },
  {
   "cell_type": "markdown",
   "metadata": {},
   "source": [
    "Run the simulation:"
   ]
  },
  {
   "cell_type": "code",
   "execution_count": 9,
   "metadata": {},
   "outputs": [],
   "source": [
    "sim_result = backend_sim.run(rabi_qobj, armonk_model).result()"
   ]
  },
  {
   "cell_type": "markdown",
   "metadata": {},
   "source": [
    "Generate the Rabi oscillation plot and find the $\\pi$-pulse amplitude:"
   ]
  },
  {
   "cell_type": "code",
   "execution_count": 10,
   "metadata": {},
   "outputs": [
    {
     "name": "stdout",
     "output_type": "stream",
     "text": [
      "Pi Amp: 0.346728\n"
     ]
    },
    {
     "data": {
      "image/png": "[encoded data removed]",
      "text/plain": [
       "<Figure size 432x288 with 1 Axes>"
      ]
     },
     "metadata": {
      "needs_background": "light"
     },
     "output_type": "display_data"
    }
   ],
   "source": [
    "rabi_fit = RabiFitter(sim_result, xdata, qubits, fit_p0 = [1.5, 2, 0, 0])\n",
    "\n",
    "# get the pi amplitude\n",
    "pi_amp = rabi_fit.pi_amplitude(0)\n",
    "\n",
    "# plot\n",
    "rabi_fit.plot(0)\n",
    "print('Pi Amp: %f'%pi_amp)"
   ]
  },
  {
   "cell_type": "code",
   "execution_count": 11,
   "metadata": {},
   "outputs": [
    {
     "data": {
      "text/html": [
       "<h3>Version Information</h3><table><tr><th>Qiskit Software</th><th>Version</th></tr><tr><td>Qiskit</td><td>0.19.6</td></tr><tr><td>Terra</td><td>0.15.0.dev0+46faf3f</td></tr><tr><td>Aer</td><td>0.6.0</td></tr><tr><td>Ignis</td><td>0.4.0.dev0+f885a59</td></tr><tr><td>Aqua</td><td>0.7.3</td></tr><tr><td>IBM Q Provider</td><td>0.7.2</td></tr><tr><th>System information</th></tr><tr><td>Python</td><td>3.8.3 (default, Jul  2 2020, 11:26:31) \n",
       "[Clang 10.0.0 ]</td></tr><tr><td>OS</td><td>Darwin</td></tr><tr><td>CPUs</td><td>8</td></tr><tr><td>Memory (Gb)</td><td>32.0</td></tr><tr><td colspan='2'>Wed Jul 15 16:03:16 2020 EDT</td></tr></table>"
      ],
      "text/plain": [
       "<IPython.core.display.HTML object>"
      ]
     },
     "metadata": {},
     "output_type": "display_data"
    },
    {
     "data": {
      "text/html": [
       "<div style='width: 100%; background-color:#d5d9e0;padding-left: 10px; padding-bottom: 10px; padding-right: 10px; padding-top: 5px'><h3>This code is a part of Qiskit</h3><p>&copy; Copyright IBM 2017, 2020.</p><p>This code is licensed under the Apache License, Version 2.0. You may<br>obtain a copy of this license in the LICENSE.txt file in the root directory<br> of this source tree or at http://www.apache.org/licenses/LICENSE-2.0.<p>Any modifications or derivative works of this code must retain this<br>copyright notice, and modified files need to carry a notice indicating<br>that they have been altered from the originals.</p></div>"
      ],
      "text/plain": [
       "<IPython.core.display.HTML object>"
      ]
     },
     "metadata": {},
     "output_type": "display_data"
    }
   ],
   "source": [
    "import qiskit.tools.jupyter\n",
    "%qiskit_version_table\n",
    "%qiskit_copyright"
   ]
  }
 ],
 "metadata": {
  "kernelspec": {
   "display_name": "Python 3",
   "language": "python",
   "name": "python3"
  },
  "language_info": {
   "codemirror_mode": {
    "name": "ipython",
    "version": 3
   },
   "file_extension": ".py",
   "mimetype": "text/x-python",
   "name": "python",
   "nbconvert_exporter": "python",
   "pygments_lexer": "ipython3",
   "version": "3.8.3"
  }
 },
 "nbformat": 4,
 "nbformat_minor": 2
}
